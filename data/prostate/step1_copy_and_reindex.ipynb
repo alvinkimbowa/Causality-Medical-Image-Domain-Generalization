{
 "cells": [
  {
   "cell_type": "markdown",
   "metadata": {},
   "source": [
    "### copy to new folder and re-index domains and pids"
   ]
  },
  {
   "cell_type": "code",
   "execution_count": 3,
   "metadata": {},
   "outputs": [
    {
     "name": "stdout",
     "output_type": "stream",
     "text": [
      "Once deleted, variables cannot be recovered. Proceed (y/[n])? y\n",
      "The autoreload extension is already loaded. To reload it, use:\n",
      "  %reload_ext autoreload\n"
     ]
    }
   ],
   "source": [
    "%reset\n",
    "%load_ext autoreload\n",
    "%autoreload 2\n",
    "import numpy as np\n",
    "import os\n",
    "import glob\n",
    "import SimpleITK as sitk\n",
    "import sys\n",
    "sys.path.insert(0, '../../dataloaders/')\n",
    "import niftiio as nio\n",
    "import shutil"
   ]
  },
  {
   "cell_type": "code",
   "execution_count": 4,
   "metadata": {},
   "outputs": [],
   "source": [
    "DOMAIN_MAP = {\n",
    "    'ISBI': 'A',\n",
    "    'ISBI_1.5': 'B',\n",
    "    'I2CVB': 'C',\n",
    "    'UCL': 'D',\n",
    "    'BIDMC': 'E',\n",
    "    'HK': 'F'\n",
    "}"
   ]
  },
  {
   "cell_type": "code",
   "execution_count": 5,
   "metadata": {},
   "outputs": [],
   "source": [
    "SRC = './data/' # the direcotry of decompressed SAML datasets\n",
    "domains = sorted(os.listdir(SRC))"
   ]
  },
  {
   "cell_type": "code",
   "execution_count": 6,
   "metadata": {},
   "outputs": [],
   "source": [
    "DST = './tmp_reindexed'\n",
    "os.makedirs(DST, exist_ok=True)"
   ]
  },
  {
   "cell_type": "code",
   "execution_count": 7,
   "metadata": {
    "scrolled": false
   },
   "outputs": [
    {
     "name": "stdout",
     "output_type": "stream",
     "text": [
      "domain BIDMC id 00 has been copied\n",
      "domain BIDMC id 04 has been copied\n",
      "domain BIDMC id 09 has been copied\n",
      "domain BIDMC id 12 has been copied\n",
      "domain BIDMC id 06 has been copied\n",
      "domain BIDMC id 10 has been copied\n",
      "domain BIDMC id 08 has been copied\n",
      "domain BIDMC id 05 has been copied\n",
      "domain BIDMC id 11 has been copied\n",
      "domain BIDMC id 07 has been copied\n",
      "domain BIDMC id 01 has been copied\n",
      "domain BIDMC id 03 has been copied\n",
      "domain HK id 46 has been copied\n",
      "domain HK id 44 has been copied\n",
      "domain HK id 49 has been copied\n",
      "domain HK id 42 has been copied\n",
      "domain HK id 38 has been copied\n",
      "domain HK id 40 has been copied\n",
      "domain HK id 39 has been copied\n",
      "domain HK id 43 has been copied\n",
      "domain HK id 41 has been copied\n",
      "domain HK id 47 has been copied\n",
      "domain HK id 48 has been copied\n",
      "domain HK id 45 has been copied\n",
      "domain I2CVB id 01 has been copied\n",
      "domain I2CVB id 17 has been copied\n",
      "domain I2CVB id 03 has been copied\n",
      "domain I2CVB id 18 has been copied\n",
      "domain I2CVB id 15 has been copied\n",
      "domain I2CVB id 08 has been copied\n",
      "domain I2CVB id 13 has been copied\n",
      "domain I2CVB id 05 has been copied\n",
      "domain I2CVB id 11 has been copied\n",
      "domain I2CVB id 07 has been copied\n",
      "domain I2CVB id 04 has been copied\n",
      "domain I2CVB id 09 has been copied\n",
      "domain I2CVB id 12 has been copied\n",
      "domain I2CVB id 06 has been copied\n",
      "domain I2CVB id 10 has been copied\n",
      "domain I2CVB id 16 has been copied\n",
      "domain I2CVB id 00 has been copied\n",
      "domain I2CVB id 14 has been copied\n",
      "domain I2CVB id 02 has been copied\n",
      "domain ISBI id 29 has been copied\n",
      "domain ISBI id 24 has been copied\n",
      "domain ISBI id 08 has been copied\n",
      "domain ISBI id 13 has been copied\n",
      "domain ISBI id 05 has been copied\n",
      "domain ISBI id 26 has been copied\n",
      "domain ISBI id 11 has been copied\n",
      "domain ISBI id 07 has been copied\n",
      "domain ISBI id 20 has been copied\n",
      "domain ISBI id 01 has been copied\n",
      "domain ISBI id 17 has been copied\n",
      "domain ISBI id 22 has been copied\n",
      "domain ISBI id 03 has been copied\n",
      "domain ISBI id 18 has been copied\n",
      "domain ISBI id 15 has been copied\n",
      "domain ISBI id 16 has been copied\n",
      "domain ISBI id 00 has been copied\n",
      "domain ISBI id 21 has been copied\n",
      "domain ISBI id 14 has been copied\n",
      "domain ISBI id 02 has been copied\n",
      "domain ISBI id 19 has been copied\n",
      "domain ISBI id 23 has been copied\n",
      "domain ISBI id 04 has been copied\n",
      "domain ISBI id 09 has been copied\n",
      "domain ISBI id 12 has been copied\n",
      "domain ISBI id 25 has been copied\n",
      "domain ISBI id 28 has been copied\n",
      "domain ISBI id 06 has been copied\n",
      "domain ISBI id 10 has been copied\n",
      "domain ISBI id 27 has been copied\n",
      "domain ISBI_1.5 id 15 has been copied\n",
      "domain ISBI_1.5 id 18 has been copied\n",
      "domain ISBI_1.5 id 03 has been copied\n",
      "domain ISBI_1.5 id 22 has been copied\n",
      "domain ISBI_1.5 id 17 has been copied\n",
      "domain ISBI_1.5 id 01 has been copied\n",
      "domain ISBI_1.5 id 20 has been copied\n",
      "domain ISBI_1.5 id 07 has been copied\n",
      "domain ISBI_1.5 id 11 has been copied\n",
      "domain ISBI_1.5 id 26 has been copied\n",
      "domain ISBI_1.5 id 05 has been copied\n",
      "domain ISBI_1.5 id 13 has been copied\n",
      "domain ISBI_1.5 id 08 has been copied\n",
      "domain ISBI_1.5 id 24 has been copied\n",
      "domain ISBI_1.5 id 29 has been copied\n",
      "domain ISBI_1.5 id 27 has been copied\n",
      "domain ISBI_1.5 id 10 has been copied\n",
      "domain ISBI_1.5 id 06 has been copied\n",
      "domain ISBI_1.5 id 28 has been copied\n",
      "domain ISBI_1.5 id 25 has been copied\n",
      "domain ISBI_1.5 id 12 has been copied\n",
      "domain ISBI_1.5 id 09 has been copied\n",
      "domain ISBI_1.5 id 04 has been copied\n",
      "domain ISBI_1.5 id 23 has been copied\n",
      "domain ISBI_1.5 id 19 has been copied\n",
      "domain ISBI_1.5 id 02 has been copied\n",
      "domain ISBI_1.5 id 14 has been copied\n",
      "domain ISBI_1.5 id 21 has been copied\n",
      "domain ISBI_1.5 id 00 has been copied\n",
      "domain ISBI_1.5 id 16 has been copied\n",
      "domain UCL id 34 has been copied\n",
      "domain UCL id 01 has been copied\n",
      "domain UCL id 36 has been copied\n",
      "domain UCL id 30 has been copied\n",
      "domain UCL id 26 has been copied\n",
      "domain UCL id 29 has been copied\n",
      "domain UCL id 32 has been copied\n",
      "domain UCL id 27 has been copied\n",
      "domain UCL id 31 has been copied\n",
      "domain UCL id 28 has been copied\n",
      "domain UCL id 33 has been copied\n",
      "domain UCL id 35 has been copied\n",
      "domain UCL id 37 has been copied\n"
     ]
    }
   ],
   "source": [
    "iid = '../data/BIDMC/Case00.nii.gz'\n",
    "gid = '../data/BIDMC/Case00_segmentation.nii.gz'\n",
    "\n",
    "for dm in domains:\n",
    "    fids = glob.glob(os.path.join(SRC, dm) + '/Case*[0123456789].nii.gz')\n",
    "    gids = []\n",
    "\n",
    "    TGT = os.path.join(DST, DOMAIN_MAP[dm])\n",
    "    os.makedirs(TGT, exist_ok=True)\n",
    "    for fid in fids:\n",
    "        key = fid.split('Case')[-1].split('.')[0]\n",
    "        gid = os.path.join(SRC, dm) + '/Case' + key + '_segmentation.nii.gz'\n",
    "        if 'ISBI_1.5' in dm:\n",
    "            gid = os.path.join(SRC, dm) + '/Case' + key + '_Segmentation.nii.gz'\n",
    "        assert os.path.isfile(gid)\n",
    "        gids.append(gid)\n",
    "\n",
    "        tgt_img = os.path.join(TGT, f'image_{str(int(key))}.nii.gz')\n",
    "        tgt_gth = os.path.join(TGT, f'label_{str(int(key))}.nii.gz')\n",
    "\n",
    "        shutil.copy(src=fid, dst=tgt_img)\n",
    "        shutil.copy(src=gid, dst=tgt_gth)\n",
    "        #print(np.unique(nio.read_nii_bysitk(gid)))\n",
    "        print(f'domain {dm} id {key} has been copied')\n",
    "\n",
    "\n"
   ]
  },
  {
   "cell_type": "code",
   "execution_count": null,
   "metadata": {},
   "outputs": [],
   "source": []
  }
 ],
 "metadata": {
  "kernelspec": {
   "display_name": "Python 3",
   "language": "python",
   "name": "python3"
  },
  "language_info": {
   "codemirror_mode": {
    "name": "ipython",
    "version": 3
   },
   "file_extension": ".py",
   "mimetype": "text/x-python",
   "name": "python",
   "nbconvert_exporter": "python",
   "pygments_lexer": "ipython3",
   "version": "3.6.0"
  }
 },
 "nbformat": 4,
 "nbformat_minor": 2
}
